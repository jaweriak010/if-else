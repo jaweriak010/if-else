{
 "cells": [
  {
   "cell_type": "markdown",
   "id": "d9f90739-1479-44c6-8eab-d264b1421c74",
   "metadata": {},
   "source": [
    "# if Else concepts"
   ]
  },
  {
   "cell_type": "markdown",
   "id": "93a3201e-da16-4288-a3ce-114d79c54994",
   "metadata": {},
   "source": [
    " 1:The process of using conditions to determine which set of instructions to execute"
   ]
  },
  {
   "cell_type": "markdown",
   "id": "53f7b46c-69ed-4308-bf46-9def349a3f00",
   "metadata": {},
   "source": [
    "2: To check a condition, and execute it if the condition holds true"
   ]
  },
  {
   "cell_type": "code",
   "execution_count": 6,
   "id": "ccc11b04-da9a-4e5c-83a3-dad9a82f0edc",
   "metadata": {},
   "outputs": [
    {
     "name": "stdout",
     "output_type": "stream",
     "text": [
      "x is smaller than y.\n"
     ]
    }
   ],
   "source": [
    "x=3\n",
    "y=10\n",
    "if (x < y):\n",
    "    print ( 'x is smaller than y.') "
   ]
  },
  {
   "cell_type": "markdown",
   "id": "a5f7c6c0-75a6-4016-9734-03c38c7a47a7",
   "metadata": {},
   "source": [
    "4: Indentation refers to the spaces at the beginning of a code line.Python uses indentation to indicate a block of code."
   ]
  },
  {
   "cell_type": "markdown",
   "id": "e8369138-1053-4386-852d-9cccf0b59b36",
   "metadata": {},
   "source": [
    "5: The spaces at the beginning of a code line"
   ]
  },
  {
   "cell_type": "markdown",
   "id": "52f26ec2-d4ed-4aa7-860d-40246bfe6c82",
   "metadata": {},
   "source": [
    "6: To indent in Python, whitespaces are preferred over tabs."
   ]
  },
  {
   "cell_type": "markdown",
   "id": "91b9fbae-8698-43f2-aae5-cfcd36de0228",
   "metadata": {},
   "source": [
    "7: SyntaxError is a common error that occurs when the Python finds incorrect code that does not conform to the syntax rules."
   ]
  },
  {
   "cell_type": "markdown",
   "id": "4f47eca6-d2d3-46c2-9605-7ca13429250b",
   "metadata": {},
   "source": [
    "8: If the condition for the inner statement is true, then the code inside that if statement is run. If it's false, it runs the remaining code inside the outer if statement."
   ]
  },
  {
   "cell_type": "code",
   "execution_count": 49,
   "id": "0425d7ad-2b5b-40e1-bd28-7a946e26477b",
   "metadata": {},
   "outputs": [
    {
     "name": "stdin",
     "output_type": "stream",
     "text": [
      "enter a number:  7\n"
     ]
    },
    {
     "name": "stdout",
     "output_type": "stream",
     "text": [
      "odd\n"
     ]
    }
   ],
   "source": [
    "x = input(\"enter a number: \")\n",
    "x = int(x)\n",
    "if (x%5 == 0):\n",
    "    print(\"even\")\n",
    "else:\n",
    "    print(\"odd\")"
   ]
  },
  {
   "cell_type": "markdown",
   "id": "313a833c-adfc-4b95-8aa6-8439bfbd9397",
   "metadata": {},
   "source": [
    "10: To execute both the true part and the false part of a given condition"
   ]
  },
  {
   "cell_type": "code",
   "execution_count": 60,
   "id": "3eaaf261-70ff-451d-9609-6965d818a8fb",
   "metadata": {},
   "outputs": [
    {
     "data": {
      "text/plain": [
       "'adult'"
      ]
     },
     "execution_count": 60,
     "metadata": {},
     "output_type": "execute_result"
    }
   ],
   "source": [
    "age = 19\n",
    "rv = 'adult' if age>= 18 else 'child'\n",
    "rv\n"
   ]
  },
  {
   "cell_type": "code",
   "execution_count": 1,
   "id": "4c324135-0dc7-4270-bd14-1fd81efb8166",
   "metadata": {},
   "outputs": [
    {
     "name": "stdin",
     "output_type": "stream",
     "text": [
      "Enter a number:  10\n"
     ]
    },
    {
     "name": "stdout",
     "output_type": "stream",
     "text": [
      "Positive number\n"
     ]
    }
   ],
   "source": [
    "num = float(input(\"Enter a number: \"))\n",
    "if num > 0:\n",
    "   print(\"Positive number\")\n",
    "elif num == 0:\n",
    "   print(\"Zero\")\n",
    "else:\n",
    "   print(\"Negative number\")"
   ]
  },
  {
   "cell_type": "markdown",
   "id": "9f8d21c0-2fec-451a-8b0d-17d1c52ff7b3",
   "metadata": {},
   "source": [
    "13: Else block does not make sense as if it doesn't have corresponding if block"
   ]
  },
  {
   "cell_type": "markdown",
   "id": "3cd635ec-6376-46a5-bf7c-ed0be3f0efef",
   "metadata": {},
   "source": [
    "14: to check for multiple conditions"
   ]
  },
  {
   "cell_type": "code",
   "execution_count": 4,
   "id": "3941141e-7982-49a2-af84-3ceaf0678809",
   "metadata": {},
   "outputs": [
    {
     "name": "stdout",
     "output_type": "stream",
     "text": [
      "true\n"
     ]
    }
   ],
   "source": [
    "if 51<5:\n",
    "  print(\"False\")\n",
    "elif 0<5:\n",
    "  print(\"true\")\n",
    "elif 0<3:\n",
    "  print(\"true\")\n",
    "else:\n",
    "  print(\"If all fails.\")"
   ]
  },
  {
   "cell_type": "code",
   "execution_count": 4,
   "id": "013db9cc-78f8-4759-9f88-4e5b462dfaaa",
   "metadata": {},
   "outputs": [
    {
     "name": "stdin",
     "output_type": "stream",
     "text": [
      "enter the month number (1_12):  11\n"
     ]
    },
    {
     "name": "stdout",
     "output_type": "stream",
     "text": [
      "November - A time for gratitude and thanks.\n"
     ]
    }
   ],
   "source": [
    "def print_month_message(month):\n",
    "    if month == 1:\n",
    "        print(\"January - A fresh start to the new year!\")\n",
    "    elif month == 2:\n",
    "        print(\"February - The month of love and friendship.\")\n",
    "    elif month == 3:\n",
    "        print(\"March - Spring begins to bloom.\")\n",
    "    elif month == 4:\n",
    "        print(\"April - Showers bring May flowers.\")\n",
    "    elif month == 5:\n",
    "        print(\"May - The flowers are in full bloom.\")\n",
    "    elif month == 6:\n",
    "        print(\"June - The start of summer fun!\")\n",
    "    elif month == 7:\n",
    "        print(\"July - Independence and fireworks.\")\n",
    "    elif month == 8:\n",
    "        print(\"August - Enjoy the summer sun.\")\n",
    "    elif month == 9:\n",
    "        print(\"September - Fall is approaching.\")\n",
    "    elif month == 10:\n",
    "        print(\"October - Spooky Halloween time!\")\n",
    "    elif month == 11:\n",
    "        print(\"November - A time for gratitude and thanks.\")\n",
    "    elif month == 12:\n",
    "        print(\"December - Festive holiday celebrations.\")\n",
    "    else:\n",
    "        print(\"Invalid month. Please enter a number between 1 and 12.\")\n",
    "\n",
    "# Example usage:\n",
    "month = int(input(\"enter the month number (1_12): \"))\n",
    "print_month_message(month)\n"
   ]
  },
  {
   "cell_type": "code",
   "execution_count": 10,
   "id": "1350afeb-95f1-45a2-aa17-210798a0aad6",
   "metadata": {},
   "outputs": [
    {
     "name": "stdout",
     "output_type": "stream",
     "text": [
      "x is equal to y.\n"
     ]
    }
   ],
   "source": [
    "x = 3 \n",
    "y = 3\n",
    "if x<y: \n",
    "  print (\"x is smaller than y.\") \n",
    "elif x==y:\n",
    "  print (\"x is equal to y.\") \n",
    "else: \n",
    "  print (\"x is greater than y.\") \n"
   ]
  },
  {
   "cell_type": "markdown",
   "id": "5798d3e8-728e-41d6-8925-b1c9506b7707",
   "metadata": {},
   "source": [
    "18: No, the elif statement cannot be used without a preceding if statement. The elif (short for \"else if\") is used to check multiple conditions after the initial if condition. "
   ]
  },
  {
   "cell_type": "markdown",
   "id": "5ee2432a-9f54-43a6-8447-b4850da93185",
   "metadata": {},
   "source": [
    "19: Yes, the elif statement can be used without an else statement. The else statement is optional in an if-elif-else"
   ]
  },
  {
   "cell_type": "markdown",
   "id": "d83f4a0e-be27-456b-b502-f7361bc3d930",
   "metadata": {},
   "source": [
    "20: if, elif, elif... chain: This structure evaluates conditions sequentially. If a condition in an if or elif statement is true, the corresponding block of code is executed, and the rest of the conditions are skipped. Only one block of code will be executed in this structure."
   ]
  },
  {
   "cell_type": "code",
   "execution_count": 16,
   "id": "4b7fa3d2-9830-456e-8f0c-0a54e82e8bff",
   "metadata": {},
   "outputs": [
    {
     "name": "stdout",
     "output_type": "stream",
     "text": [
      "Value is greater than 10\n"
     ]
    }
   ],
   "source": [
    "#Example:\n",
    "value = 15\n",
    "\n",
    "if value > 10:\n",
    "    print(\"Value is greater than 10\")\n",
    "elif value > 5:\n",
    "    print(\"Value is greater than 5\")\n",
    "elif value > 0:\n",
    "    print(\"Value is greater than 0\")\n"
   ]
  },
  {
   "cell_type": "markdown",
   "id": "62c88535-d3ab-4a3c-a101-f6d800fc7813",
   "metadata": {},
   "source": [
    "if, if, if... chain: This structure evaluates each condition independently. If multiple conditions are true, multiple blocks of code will be executed."
   ]
  },
  {
   "cell_type": "code",
   "execution_count": 18,
   "id": "98116c39-3d2b-4789-96bf-22e22df359c7",
   "metadata": {},
   "outputs": [
    {
     "name": "stdout",
     "output_type": "stream",
     "text": [
      "Value is greater than 10\n",
      "Value is greater than 5\n",
      "Value is greater than 0\n"
     ]
    }
   ],
   "source": [
    "#Example:\n",
    "value = 15\n",
    "\n",
    "if value > 10:\n",
    "    print(\"Value is greater than 10\")\n",
    "if value > 5:\n",
    "    print(\"Value is greater than 5\")\n",
    "if value > 0:\n",
    "    print(\"Value is greater than 0\")\n"
   ]
  },
  {
   "cell_type": "markdown",
   "id": "dcca56b3-c9b7-4139-abc8-7f0148dc0583",
   "metadata": {},
   "source": [
    "21: Yes, non-boolean conditions can be used with if statements in Python."
   ]
  },
  {
   "cell_type": "code",
   "execution_count": 19,
   "id": "cf787033-7546-4202-91a9-b6113672bbc5",
   "metadata": {},
   "outputs": [
    {
     "name": "stdout",
     "output_type": "stream",
     "text": [
      "The list is not empty\n"
     ]
    }
   ],
   "source": [
    "#Example:\n",
    "my_list = [1, 2, 3]\n",
    "\n",
    "if my_list:  # This checks if the list is non-empty\n",
    "    print(\"The list is not empty\")\n",
    "else:\n",
    "    print(\"The list is empty\")\n"
   ]
  },
  {
   "cell_type": "markdown",
   "id": "af169a90-3155-4aad-a045-f34422304d51",
   "metadata": {},
   "source": [
    "22: Nested conditional statements are conditional statements placed inside other conditional statements.\n",
    "Benefits:\n",
    "Handling Complex Logic, Hierarchical Decisions, Improved Readability ,Modularity"
   ]
  },
  {
   "cell_type": "code",
   "execution_count": 23,
   "id": "a75ce885-c546-4f04-b2f3-705815976b74",
   "metadata": {},
   "outputs": [
    {
     "name": "stdout",
     "output_type": "stream",
     "text": [
      "The number is positive.\n",
      "It is also even.\n"
     ]
    }
   ],
   "source": [
    "number = 6\n",
    "\n",
    "if number > 0:\n",
    "    print(\"The number is positive.\")\n",
    "    if number % 2 == 0:\n",
    "        print(\"It is also even.\")\n",
    "    else:\n",
    "        print(\"It is also odd.\")\n",
    "elif number < 0:\n",
    "    print(\"The number is negative.\")\n",
    "    if number % 2 == 0:\n",
    "        print(\"It is also even.\")\n",
    "    else:\n",
    "        print(\"It is also odd.\")\n",
    "else:\n",
    "    print(\"The number is zero.\")\n"
   ]
  },
  {
   "cell_type": "markdown",
   "id": "d60d81e3-3124-4c56-a973-531d59da06e9",
   "metadata": {},
   "source": [
    "24: Nested conditional statements should be avoided because they make code harder to read and understand and increase the likelihood of bugs."
   ]
  },
  {
   "cell_type": "markdown",
   "id": "d75f4cc9-0e8a-43c2-a6e4-be3725eef743",
   "metadata": {},
   "source": [
    "25: This expression evaluates true_value if condition is true, otherwise it evaluates false_value. It's useful for assigning values to variables based on a condition without the need for an explicit if statement."
   ]
  },
  {
   "cell_type": "code",
   "execution_count": 28,
   "id": "bb0f8956-35e0-4c42-9e5a-212ae5022d5d",
   "metadata": {},
   "outputs": [
    {
     "data": {
      "text/plain": [
       "20"
      ]
     },
     "execution_count": 28,
     "metadata": {},
     "output_type": "execute_result"
    }
   ],
   "source": [
    "# Example 1:\n",
    "x = 10\n",
    "y = 20\n",
    "\n",
    "rv = x if x > y else y\n",
    "rv"
   ]
  },
  {
   "cell_type": "code",
   "execution_count": 28,
   "id": "37b28bb9-d147-4cb2-a23d-0c6f87a27e8e",
   "metadata": {},
   "outputs": [
    {
     "data": {
      "text/plain": [
       "20"
      ]
     },
     "execution_count": 28,
     "metadata": {},
     "output_type": "execute_result"
    }
   ],
   "source": [
    "# Example 1:\n",
    "x = 10\n",
    "y = 20\n",
    "\n",
    "rv = x if x > y else y\n",
    "rv"
   ]
  },
  {
   "cell_type": "code",
   "execution_count": 31,
   "id": "5e5a1036-1f68-449c-a06d-52bc870d6c09",
   "metadata": {},
   "outputs": [
    {
     "name": "stdout",
     "output_type": "stream",
     "text": [
      "You are allowed\n"
     ]
    }
   ],
   "source": [
    "# Example:\n",
    "age = 25\n",
    "message = \"You are allowed\" if age >= 18 else \"You are not allowed\"\n",
    "print(message)  "
   ]
  },
  {
   "cell_type": "markdown",
   "id": "8deff919-468b-4c3d-bc4e-a0cbff311fb0",
   "metadata": {},
   "source": [
    "28:A statement is a unit of code that performs some action."
   ]
  },
  {
   "cell_type": "markdown",
   "id": "a0ad115c-4ea9-4957-8eac-6496dfcbc4f1",
   "metadata": {},
   "source": [
    "29:  An expression is a combination of values, variables, operators, and function calls that evaluates to a single value."
   ]
  },
  {
   "cell_type": "markdown",
   "id": "1fbda1f2-ebb7-4d7d-853e-e95c63dee90c",
   "metadata": {},
   "source": [
    "30: Statements perform actions or tasks whereas expressions produce values."
   ]
  },
  {
   "cell_type": "markdown",
   "id": "735291e0-73cc-42aa-b8a5-f7f7b0080181",
   "metadata": {},
   "source": [
    "31: not every statement is an expression."
   ]
  },
  {
   "cell_type": "code",
   "execution_count": 2,
   "id": "ada72dbc-8f00-4a3a-b602-06eb9a496f81",
   "metadata": {},
   "outputs": [],
   "source": [
    "#Example:\n",
    "x = 5\n"
   ]
  },
  {
   "cell_type": "markdown",
   "id": "443d6810-8bef-4d3d-90ee-7fddd4d5165e",
   "metadata": {},
   "source": [
    "This statement assigns the value 5 to the variable x, but it doesn't evaluate to a value itself. It's purely a statement that alters the state of the program."
   ]
  },
  {
   "cell_type": "markdown",
   "id": "c7e43502-def5-4803-938f-22934fc67419",
   "metadata": {},
   "source": [
    "32: Not every expression is a statement."
   ]
  },
  {
   "cell_type": "code",
   "execution_count": 3,
   "id": "1eade175-afd7-479b-b4cf-1fd7d7bee072",
   "metadata": {},
   "outputs": [],
   "source": [
    "result = 5 + 3\n"
   ]
  },
  {
   "cell_type": "markdown",
   "id": "e94a5be4-aa34-4f59-9ab6-ba2e5489e5b3",
   "metadata": {},
   "source": [
    "In this example, 5 + 3 is an expression that evaluates to the value 8, but it's not a statement by itself. "
   ]
  },
  {
   "cell_type": "markdown",
   "id": "1a73ab01-0744-4aa6-9263-c89aa35b7286",
   "metadata": {},
   "source": [
    "33:The pass statement in Python is used as a placeholder when a statement is syntactically required, but no action needs to be taken. It essentially does nothing."
   ]
  },
  {
   "cell_type": "code",
   "execution_count": 9,
   "id": "a3a5b779-0ddf-4ae2-a267-1dfeb2150e86",
   "metadata": {},
   "outputs": [
    {
     "name": "stdout",
     "output_type": "stream",
     "text": [
      "Condition is false\n"
     ]
    }
   ],
   "source": [
    "#Example:\n",
    "x = 6\n",
    "if x < 0:\n",
    "    pass\n",
    "else:\n",
    "    print(\"Condition is false\")\n",
    "\n"
   ]
  },
  {
   "cell_type": "markdown",
   "id": "e8cf5a1f-3ee5-4a6e-8d36-1d566a4d4593",
   "metadata": {},
   "source": [
    "34: certainly! In Python, one common approach to emulate switch or case statements is to use a dictionary mapping. Each key in the dictionary corresponds to a case, and the associated value is the code block to execute when that case is matched. Here's a simple implementation:"
   ]
  },
  {
   "cell_type": "code",
   "execution_count": 10,
   "id": "1cdfce01-c10c-41a4-a151-19724617ebf4",
   "metadata": {},
   "outputs": [
    {
     "name": "stdout",
     "output_type": "stream",
     "text": [
      "Case 1\n",
      "Case 2\n",
      "Case 3\n",
      "Default case\n"
     ]
    }
   ],
   "source": [
    "def case1():\n",
    "    print(\"Case 1\")\n",
    "\n",
    "def case2():\n",
    "    print(\"Case 2\")\n",
    "\n",
    "def case3():\n",
    "    print(\"Case 3\")\n",
    "\n",
    "def default_case():\n",
    "    print(\"Default case\")\n",
    "\n",
    "# Define the dictionary mapping\n",
    "switch_cases = {\n",
    "    1: case1,\n",
    "    2: case2,\n",
    "    3: case3,\n",
    "}\n",
    "\n",
    "# Define the function to handle the switch\n",
    "def switch_case(case):\n",
    "    switch_cases.get(case, default_case)()\n",
    "\n",
    "# Test cases\n",
    "switch_case(1)  # Output: Case 1\n",
    "switch_case(2)  # Output: Case 2\n",
    "switch_case(3)  # Output: Case 3\n",
    "switch_case(4)  # Output: Default case\n"
   ]
  },
  {
   "cell_type": "code",
   "execution_count": null,
   "id": "90f9ada6-0870-49f6-be5d-e4fc460c1ab3",
   "metadata": {},
   "outputs": [],
   "source": []
  }
 ],
 "metadata": {
  "kernelspec": {
   "display_name": "Python 3 (ipykernel)",
   "language": "python",
   "name": "python3"
  },
  "language_info": {
   "codemirror_mode": {
    "name": "ipython",
    "version": 3
   },
   "file_extension": ".py",
   "mimetype": "text/x-python",
   "name": "python",
   "nbconvert_exporter": "python",
   "pygments_lexer": "ipython3",
   "version": "3.11.7"
  }
 },
 "nbformat": 4,
 "nbformat_minor": 5
}
